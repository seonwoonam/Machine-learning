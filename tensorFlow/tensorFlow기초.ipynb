{
 "cells": [
  {
   "cell_type": "code",
   "execution_count": 1,
   "metadata": {},
   "outputs": [],
   "source": [
    "import tensorflow as tf"
   ]
  },
  {
   "cell_type": "markdown",
   "metadata": {},
   "source": [
    "## 상수노드"
   ]
  },
  {
   "cell_type": "code",
   "execution_count": 10,
   "metadata": {},
   "outputs": [],
   "source": [
    "# 상수 노드 정의\n",
    "a = tf.constant(1.0,name='a')\n",
    "b = tf.constant(2.0,name='b')\n",
    "c = tf.constant([[1.0,2.0],[3.0,4.0]])"
   ]
  },
  {
   "cell_type": "code",
   "execution_count": 3,
   "metadata": {},
   "outputs": [
    {
     "name": "stdout",
     "output_type": "stream",
     "text": [
      "tf.Tensor(1.0, shape=(), dtype=float32)\n",
      "tf.Tensor(3.0, shape=(), dtype=float32)\n",
      "tf.Tensor(\n",
      "[[1. 2.]\n",
      " [3. 4.]], shape=(2, 2), dtype=float32)\n"
     ]
    }
   ],
   "source": [
    "# 세션을 만들지 않고 print와 같은 명령문을 실행하면\n",
    "# 저장된 값이 아닌 현재 정의되어 있는 노드의 상태(노드타입, shape 등)가 출력됨\n",
    "# 2.0.0 버전 미만에서\n",
    "print(a)\n",
    "print(a+b)\n",
    "print(c)"
   ]
  },
  {
   "cell_type": "code",
   "execution_count": 9,
   "metadata": {},
   "outputs": [],
   "source": [
    "# 노드간의 연산을 위해서 세션 생성\n",
    "# 텐서플로우 버전 2.0.0에서는 session을 정의하고 run 해주는 과정이 생략\n",
    "# tf.printf를 하면 된다."
   ]
  },
  {
   "cell_type": "code",
   "execution_count": 6,
   "metadata": {},
   "outputs": [
    {
     "name": "stdout",
     "output_type": "stream",
     "text": [
      "1\r\n"
     ]
    }
   ],
   "source": [
    "# 그냥 사용\n",
    "tf.print(a)"
   ]
  },
  {
   "cell_type": "code",
   "execution_count": 17,
   "metadata": {},
   "outputs": [
    {
     "name": "stdout",
     "output_type": "stream",
     "text": [
      "5.0\n",
      "6.0\n",
      "30.0\n"
     ]
    }
   ],
   "source": [
    " # 또는 tf.compat.v1.Session() 사용\n",
    "    # Launch the graph in a session.\n",
    " with tf.compat.v1.Session() as ses:\n",
    "\n",
    "     # Build a graph.\n",
    "     d = tf.constant(5.0)\n",
    "     e = tf.constant(6.0)\n",
    "     f = a * b\n",
    "\n",
    "     # Evaluate the tensor `c`.\n",
    "     print(ses.run(d))\n",
    "     print(ses.run(e))\n",
    "     print(ses.run(f))\n",
    "    \n",
    " ses.close()"
   ]
  },
  {
   "cell_type": "markdown",
   "metadata": {},
   "source": [
    "## 플레이스홀더 노드"
   ]
  },
  {
   "cell_type": "code",
   "execution_count": 24,
   "metadata": {},
   "outputs": [
    {
     "name": "stdout",
     "output_type": "stream",
     "text": [
      "tf.Tensor(3, shape=(), dtype=int32)\n",
      "3\r\n"
     ]
    }
   ],
   "source": [
    "# 텐서플로에서는 임의의 값을 입력으로 받아 연산 위해 플레이스홀더 노드 정의(함수느낌)\n",
    "# 플레이스홀더 노드\n",
    "# 플레이스홀더 노드는 머신러닝/딥러닝에서 입력데이터, 정답데이터를 넣어주기 위한 용도\n",
    "# 2.0.0 버전 이후에서는 세션과 플레이스홀더를 사용하지 않고 @tf.function을 \n",
    "# 통해 함수를 정의하여 훨씬 간결하게 처리\n",
    "\n",
    "@tf.function\n",
    "def adder(a,b):\n",
    "    return a+b\n",
    "\n",
    "A = tf.constant(1)\n",
    "B = tf.constant(2)\n",
    "print(adder(A,B))\n",
    "tf.print(adder(A,B))"
   ]
  },
  {
   "cell_type": "markdown",
   "metadata": {},
   "source": [
    "## 변수노드"
   ]
  },
  {
   "cell_type": "code",
   "execution_count": 31,
   "metadata": {},
   "outputs": [
    {
     "name": "stdout",
     "output_type": "stream",
     "text": [
      "step =  0 , W1 =  [0.90377444] , b1 =  [-0.389585942]\n",
      "step =  0 , W2 =  [[1.02648175 -0.853367031]] , b2 =  [[-0.722002685 0.917948127]]\n",
      "step =  1 , W1 =  [-0.0962255597] , b1 =  [-1.38958597]\n",
      "step =  1 , W2 =  [[0.0264817476 -1.85336709]] , b2 =  [[-1.72200274 -0.0820518732]]\n",
      "step =  2 , W1 =  [-2.0962255] , b1 =  [-3.38958597]\n",
      "step =  2 , W2 =  [[-1.97351825 -3.85336709]] , b2 =  [[-3.72200274 -2.08205175]]\n"
     ]
    }
   ],
   "source": [
    "# 딥러닝의 가중치나 바이어스 처럼 계속 업데이트 되는 변수는\n",
    "# 텐서플로에서 변수노드로 정의 \n",
    "\n",
    "\n",
    "# 값이 계속 업데이트되는 변수노드 임의의 값으로 정의\n",
    "w1 = tf.Variable(tf.random.normal([1]))\n",
    "b1 = tf.Variable(tf.random.normal([1]))\n",
    "\n",
    "w2 = tf.Variable(tf.random.normal([1,2]))\n",
    "b2 = tf.Variable(tf.random.normal([1,2]))\n",
    "\n",
    "for step in range(3):\n",
    "    w1 = w1-step\n",
    "    b1 = b1-step\n",
    "    \n",
    "    w2 = w2-step\n",
    "    b2 = b2-step\n",
    "    \n",
    "    tf.print(\"step = \", step, \", W1 = \", w1, \", b1 = \",b1)\n",
    "    tf.print(\"step = \", step, \", W2 = \", w2, \", b2 = \",b2)"
   ]
  },
  {
   "cell_type": "code",
   "execution_count": null,
   "metadata": {},
   "outputs": [],
   "source": []
  }
 ],
 "metadata": {
  "kernelspec": {
   "display_name": "Python 3",
   "language": "python",
   "name": "python3"
  },
  "language_info": {
   "codemirror_mode": {
    "name": "ipython",
    "version": 3
   },
   "file_extension": ".py",
   "mimetype": "text/x-python",
   "name": "python",
   "nbconvert_exporter": "python",
   "pygments_lexer": "ipython3",
   "version": "3.7.4"
  }
 },
 "nbformat": 4,
 "nbformat_minor": 2
}
